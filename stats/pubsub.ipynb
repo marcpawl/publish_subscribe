{
 "cells": [
  {
   "cell_type": "code",
   "execution_count": 11,
   "metadata": {},
   "outputs": [
    {
     "name": "stdout",
     "output_type": "stream",
     "text": [
      "\n",
      "\n",
      " create\n",
      "create Time legacy 781844.18\n",
      "create Time subscription 810776.66\n",
      "0.15600137681281545\n",
      "LARGER\n",
      "create CPU legacy 781844.18\n",
      "create CPU subscription 810776.66\n",
      "0.15600137681281545\n",
      "LARGER\n",
      "\n",
      "\n",
      " destruct\n",
      "destruct Time legacy 28144276337033.0\n",
      "destruct Time subscription 28216252628837.0\n",
      "0.0\n",
      "SAME\n",
      "destruct CPU legacy 28144276337033.0\n",
      "destruct CPU subscription 28216252628837.0\n",
      "0.0\n",
      "SAME\n",
      "\n",
      "\n",
      " subscribe\n",
      "subscribe Time legacy 28144716803075.0\n",
      "subscribe Time subscription 28216302475623.0\n",
      "1.7829196654011007e-230\n",
      "SAME\n",
      "subscribe CPU legacy 28144716803075.0\n",
      "subscribe CPU subscription 28216302475623.0\n",
      "1.7829196654011007e-230\n",
      "SAME\n",
      "\n",
      "\n",
      " unsubscribe\n",
      "unsubscribe Time legacy 28145912297965.0\n",
      "unsubscribe Time subscription 28216361682491.0\n",
      "1.5840989227068657e-203\n",
      "SAME\n",
      "unsubscribe CPU legacy 28145912297965.0\n",
      "unsubscribe CPU subscription 28216361682491.0\n",
      "1.5840989227068657e-203\n",
      "SAME\n",
      "\n",
      "\n",
      " update\n",
      "update Time legacy 4.164199999999999\n",
      "update Time subscription 3.807799999999999\n",
      "0.07741853808310889\n",
      "SMALLER\n",
      "update CPU legacy 4.164199999999999\n",
      "update CPU subscription 3.807799999999999\n",
      "0.07741853808310889\n",
      "SMALLER\n"
     ]
    }
   ],
   "source": [
    "import pandas as pd\n",
    "import os\n",
    "from scipy.stats import ttest_ind\n",
    "df = pd.read_csv ('/home/jovyan/work/stats.csv')\n",
    "#for col in df.columns: \n",
    "#    print(col) \n",
    "df=df.drop(columns=[ 'units', 'units2', 'Iterations'])\n",
    "#print(df)\n",
    "for id in (df['Benchmark'].unique()) :\n",
    "    print(\"\\n\\n\",id)\n",
    "    \n",
    "    benchmark=df.loc[df['Benchmark'] == id]\n",
    "    #print(benchmark)\n",
    "    \n",
    "    legacy = benchmark[benchmark['variant']=='legacy']\n",
    "    subscription = benchmark[benchmark['variant']=='subscription']\n",
    "        \n",
    "    for measure in ['Time', 'CPU'] :\n",
    "        legacy_m = legacy['Time']\n",
    "        legacy_m_mean = legacy_m.mean()\n",
    "        print(id, measure, \"legacy\", legacy_m_mean)\n",
    "\n",
    "        subscription_m = subscription['Time']\n",
    "        subscription_m_mean = subscription_m.mean()\n",
    "        print(id, measure, \"subscription\", subscription_m_mean)\n",
    "        \n",
    "        (t,pvalue) = ttest_ind(legacy_m, subscription_m)\n",
    "        print(pvalue)\n",
    "        \n",
    "        if (pvalue < 0.05) :\n",
    "            print(\"SAME\")\n",
    "        else:\n",
    "            if subscription_m_mean > legacy_m_mean :\n",
    "                print(\"LARGER\")\n",
    "            else:\n",
    "                print(\"SMALLER\")\n"
   ]
  },
  {
   "cell_type": "code",
   "execution_count": 10,
   "metadata": {},
   "outputs": [
    {
     "data": {
      "text/plain": [
       "['criteria.txt',\n",
       " 'go',\n",
       " 'Dockerfile.compile',\n",
       " 'stats.csv',\n",
       " '.env',\n",
       " 'stats.py',\n",
       " 'docker-compose.yml',\n",
       " '.ipynb_checkpoints',\n",
       " '.git',\n",
       " 'Untitled.ipynb']"
      ]
     },
     "execution_count": 10,
     "metadata": {},
     "output_type": "execute_result"
    }
   ],
   "source": [
    "os.listdir(\"/home/jovyan/work\")"
   ]
  },
  {
   "cell_type": "code",
   "execution_count": null,
   "metadata": {},
   "outputs": [],
   "source": []
  }
 ],
 "metadata": {
  "kernelspec": {
   "display_name": "Python 3",
   "language": "python",
   "name": "python3"
  },
  "language_info": {
   "codemirror_mode": {
    "name": "ipython",
    "version": 3
   },
   "file_extension": ".py",
   "mimetype": "text/x-python",
   "name": "python",
   "nbconvert_exporter": "python",
   "pygments_lexer": "ipython3",
   "version": "3.7.6"
  }
 },
 "nbformat": 4,
 "nbformat_minor": 4
}
